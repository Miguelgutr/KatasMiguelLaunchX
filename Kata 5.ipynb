{
 "cells": [
  {
   "cell_type": "markdown",
   "metadata": {},
   "source": [
    "## Kata 5\n",
    "Operaciones matematicas"
   ]
  },
  {
   "cell_type": "markdown",
   "metadata": {},
   "source": [
    "## EJercicio 1\n",
    "Operadores aritméticos"
   ]
  },
  {
   "cell_type": "code",
   "execution_count": 2,
   "metadata": {},
   "outputs": [
    {
     "name": "stdout",
     "output_type": "stream",
     "text": [
      "-628949330\n"
     ]
    }
   ],
   "source": [
    "disTierra = 149597870\n",
    "disJupiter = 778547200\n",
    "distKM = disTierra - disJupiter\n",
    "print(distKM)\n",
    "disMil = distKM * 0.621"
   ]
  },
  {
   "cell_type": "markdown",
   "metadata": {},
   "source": [
    "## Ejercicio 2\n",
    "cadenas en números y valores absolutos"
   ]
  },
  {
   "cell_type": "code",
   "execution_count": 6,
   "metadata": {},
   "outputs": [
    {
     "name": "stdout",
     "output_type": "stream",
     "text": [
      "La distancia en km es 44 y en millas es 27.323999999999998\n"
     ]
    }
   ],
   "source": [
    "planetOne = int(input(\"ingresa la distancia del planeta UNO respecto al sol (en KM)\"))\n",
    "planetTwo = int(input(\"ingresa la distancia del planeta DOS respecto al sol (en KM)\"))\n",
    "\n",
    "distKM = abs(planetOne - planetTwo)\n",
    "print(f\"La distancia en km es {distKM} y en millas es {distKM * 0.621}\")"
   ]
  }
 ],
 "metadata": {
  "interpreter": {
   "hash": "7c3f7dc6e6d896aa847b05589eb42185e2b621ca78cd85647f1646bb8cc98ef4"
  },
  "kernelspec": {
   "display_name": "Python 3.10.2 64-bit (windows store)",
   "language": "python",
   "name": "python3"
  },
  "language_info": {
   "codemirror_mode": {
    "name": "ipython",
    "version": 3
   },
   "file_extension": ".py",
   "mimetype": "text/x-python",
   "name": "python",
   "nbconvert_exporter": "python",
   "pygments_lexer": "ipython3",
   "version": "3.10.2"
  },
  "orig_nbformat": 4
 },
 "nbformat": 4,
 "nbformat_minor": 2
}
