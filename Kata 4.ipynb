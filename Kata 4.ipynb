{
 "cells": [
  {
   "cell_type": "code",
   "execution_count": null,
   "metadata": {},
   "outputs": [],
   "source": []
  },
  {
   "cell_type": "markdown",
   "metadata": {},
   "source": [
    "### Kata 4\n"
   ]
  },
  {
   "cell_type": "markdown",
   "metadata": {},
   "source": [
    "Cadenas"
   ]
  },
  {
   "cell_type": "markdown",
   "metadata": {},
   "source": [
    "## Ejercicio 1"
   ]
  },
  {
   "cell_type": "code",
   "execution_count": 38,
   "metadata": {},
   "outputs": [
    {
     "name": "stdout",
     "output_type": "stream",
     "text": [
      "['Interesting facts about the Moon', \" The Moon is Earth's only satellite\", ' There are several interesting facts about the Moon and how it affects life here on Earth', ' \\n    On average, the Moon moves 4cm away from the Earth every year', ' This yearly drift is not significant enough to cause immediate effects on Earth', '\\n    ']\n",
      " The Moon is Earth's only satellite\n",
      " The Moon is Earth's only satellite\n",
      " The Moon is Earth's only satellite\n",
      " The Moon is Earth's only satellite\n",
      " The Moon is Earth's only satellite\n",
      " The Moon is Earth's only satellite\n",
      " There are several interesting facts about the Moon and how it affects life here on Earth\n",
      " \n",
      "    On average, the Moon moves 4cm away from the Earth every year\n",
      " This yearly drift is not significant enough to cause immediate effects on Earth\n",
      "Interesting facts about the Moon\n",
      " The Moon is Earth's only satellite\n",
      " There are several interesting facts about the Moon and how it affects life here on Earth\n",
      " \n",
      "    On average, the Moon moves 4cm away from the Earth every year\n",
      " This yearly drift is not significant enough to cause immediate effects on Earth\n"
     ]
    }
   ],
   "source": [
    "text = \"\"\"Interesting facts about the Moon. The Moon is Earth's only satellite. There are several interesting facts about the Moon and how it affects life here on Earth. \n",
    "    On average, the Moon moves 4cm away from the Earth every year. This yearly drift is not significant enough to cause immediate effects on Earth.\n",
    "    \"\"\"\n",
    "text2 = text.split('.')   \n",
    "print(text2)\n",
    "text.lower()\n",
    "claveWords = ['average','temperature', 'distance']\n",
    "\n",
    "for item in text2:\n",
    "    for claveWords in claveWords:\n",
    "        if claveWords in item:\n",
    "            print(item)\n",
    " \n",
    "for replace in text2:\n",
    "     for claveWords in claveWords:\n",
    "         if claveWords in replace:\n",
    "             print(replace.replace('C', 'Celsius'))\n",
    "             break"
   ]
  },
  {
   "cell_type": "markdown",
   "metadata": {},
   "source": [
    "## Ejercicio 2\n"
   ]
  },
  {
   "cell_type": "code",
   "execution_count": 90,
   "metadata": {},
   "outputs": [
    {
     "name": "stdout",
     "output_type": "stream",
     "text": [
      "Gravity and others facts about  Earth  and  Moon  \n",
      " ------------------------------------------------------------------------------ \n",
      "Nombre del planeta:  Earth \n",
      "gravedad 1.6199999999999999 m/s2\n",
      "\n",
      "\n"
     ]
    }
   ],
   "source": [
    "planet = \" Earth \"\n",
    "name = \" Moon \"\n",
    "gravity = 0.00162 #in km\n",
    "gravInMtrs = gravity * 1000\n",
    "division = \"------------------------------------------------------------------------------\"\n",
    "title = f\"Gravity and others facts about {planet} and {name}\"\n",
    "multiline = f\"\"\"\n",
    "Nombre del planeta: {planet}\n",
    "gravedad {gravInMtrs} m/s2\n",
    "\n",
    "\"\"\"\n",
    "print(title, '\\n', division, multiline)\n"
   ]
  }
 ],
 "metadata": {
  "interpreter": {
   "hash": "7c3f7dc6e6d896aa847b05589eb42185e2b621ca78cd85647f1646bb8cc98ef4"
  },
  "kernelspec": {
   "display_name": "Python 3.10.2 64-bit (windows store)",
   "language": "python",
   "name": "python3"
  },
  "language_info": {
   "codemirror_mode": {
    "name": "ipython",
    "version": 3
   },
   "file_extension": ".py",
   "mimetype": "text/x-python",
   "name": "python",
   "nbconvert_exporter": "python",
   "pygments_lexer": "ipython3",
   "version": "3.10.2"
  },
  "orig_nbformat": 4
 },
 "nbformat": 4,
 "nbformat_minor": 2
}
