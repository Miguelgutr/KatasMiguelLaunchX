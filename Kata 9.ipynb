{
 "cells": [
  {
   "cell_type": "markdown",
   "metadata": {},
   "source": [
    "## Kata 9\n",
    "Funciones y argumentos"
   ]
  },
  {
   "cell_type": "markdown",
   "metadata": {},
   "source": [
    "## Ejercicio 1\n",
    "Argumentos en funciones"
   ]
  },
  {
   "cell_type": "code",
   "execution_count": 18,
   "metadata": {},
   "outputs": [
    {
     "data": {
      "text/plain": [
       "82.0"
      ]
     },
     "execution_count": 18,
     "metadata": {},
     "output_type": "execute_result"
    }
   ],
   "source": [
    "\n",
    "def tanques(tanque1, tanque2, tanque3):\n",
    "    promedio = prom(tanque1, tanque2, tanque3)\n",
    "    return f\"\"\"Reporte de tanques:\n",
    "    promedio total {promedio}\n",
    "    tanque 1: {tanque1}\n",
    "    tanque 2: {tanque2}\n",
    "    tanque 3: {tanque3}\n",
    "    \"\"\"\n",
    "\n",
    "def prom(values):\n",
    "    total = sum(values)\n",
    "    number_of_items = len(values)\n",
    "    return total / number_of_items\n",
    "\n",
    "# Test the averaging function with a list of integers:\n",
    "prom([80, 85, 81]) "
   ]
  },
  {
   "cell_type": "markdown",
   "metadata": {},
   "source": [
    "## Ejercicio 2\n",
    "Argumentos de palabra clave\n"
   ]
  },
  {
   "cell_type": "code",
   "execution_count": 29,
   "metadata": {},
   "outputs": [
    {
     "name": "stdout",
     "output_type": "stream",
     "text": [
      "\n",
      "        mision a mexico\n",
      "        hora de prelanzamiento 5\n",
      "        tiempo de vuelo 6\n",
      "        tanque externo 45\n",
      "        tanque interno 56\n",
      "    \n",
      "\n",
      "        mision a Mexico\n",
      "        Tiempo de vuelo 11\n",
      "        tanques {'tanque1': 45, 'tanque2': 56}\n",
      "    \n"
     ]
    }
   ],
   "source": [
    "def informe (hrLaunch, timeFly, destino, tanExt, tanInt):\n",
    "    return f\"\"\"\n",
    "        mision a {destino}\n",
    "        hora de prelanzamiento {hrLaunch}\n",
    "        tiempo de vuelo {timeFly}\n",
    "        tanque externo {tanExt}\n",
    "        tanque interno {tanInt}\n",
    "    \"\"\"\n",
    "\n",
    "print(informe(5,6,'mexico',45,56))\n",
    "\n",
    "\n",
    "def informe2 (destino2, *hrs,**tanques):\n",
    "    return f\"\"\"\n",
    "        mision a {destino2}\n",
    "        Tiempo de vuelo {sum(hrs)}\n",
    "        tanques {tanques}\n",
    "    \"\"\"\n",
    "\n",
    "print(informe2('Mexico', 5,6 ,tanque1 = 45, tanque2 = 56))"
   ]
  }
 ],
 "metadata": {
  "interpreter": {
   "hash": "7c3f7dc6e6d896aa847b05589eb42185e2b621ca78cd85647f1646bb8cc98ef4"
  },
  "kernelspec": {
   "display_name": "Python 3.10.2 64-bit (windows store)",
   "language": "python",
   "name": "python3"
  },
  "language_info": {
   "codemirror_mode": {
    "name": "ipython",
    "version": 3
   },
   "file_extension": ".py",
   "mimetype": "text/x-python",
   "name": "python",
   "nbconvert_exporter": "python",
   "pygments_lexer": "ipython3",
   "version": "3.10.2"
  },
  "orig_nbformat": 4
 },
 "nbformat": 4,
 "nbformat_minor": 2
}
