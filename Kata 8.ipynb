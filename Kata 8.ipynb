{
 "cells": [
  {
   "cell_type": "markdown",
   "metadata": {},
   "source": [
    "## Kata 8 \n",
    "Diccionarios"
   ]
  },
  {
   "cell_type": "markdown",
   "metadata": {},
   "source": [
    "## Ejercicio 1\n",
    "Creación de diccionario"
   ]
  },
  {
   "cell_type": "code",
   "execution_count": 25,
   "metadata": {},
   "outputs": [
    {
     "name": "stdout",
     "output_type": "stream",
     "text": [
      "El planeta  Mars tiene  2 lunas\n",
      "Planeta:  Mars , Circunferencia polar: 6752\n"
     ]
    }
   ],
   "source": [
    "planet = {\n",
    "    'name' : 'Mars',\n",
    "    'moons' : 2\n",
    "}\n",
    "print('El planeta ', planet.get('name'), 'tiene ', planet['moons'], 'lunas')\n",
    "\n",
    "planet.update({\n",
    "    'circunferencia' : {'polar' : 6752, 'equatorial' : 6792}\n",
    "    })\n",
    "\n",
    "print ('Planeta: ', planet['name'],', Circunferencia polar:', planet['circunferencia']['polar'])"
   ]
  },
  {
   "cell_type": "markdown",
   "metadata": {},
   "source": [
    "## Ejercicio 2\n",
    "Diccionarios dinámicos"
   ]
  },
  {
   "cell_type": "code",
   "execution_count": 46,
   "metadata": {},
   "outputs": [
    {
     "name": "stdout",
     "output_type": "stream",
     "text": [
      "Lunas de cada planeta:  [0, 0, 1, 2, 79, 82, 27, 14, 5, 2, 1, 1]\n",
      "Planetas en la lista:  ['mercury', 'venus', 'earth', 'mars', 'jupiter', 'saturn', 'uranus', 'neptune', 'pluto', 'haumea', 'makemake', 'eris']\n",
      "Lunas total en el diccionario:  214\n",
      "El promedio de lunas por planeta es  17.833333333333332\n"
     ]
    }
   ],
   "source": [
    "planet_moons = {\n",
    "    'mercury': 0,\n",
    "    'venus': 0,\n",
    "    'earth': 1,\n",
    "    'mars': 2,\n",
    "    'jupiter': 79,\n",
    "    'saturn': 82,\n",
    "    'uranus': 27,\n",
    "    'neptune': 14,\n",
    "    'pluto': 5,\n",
    "    'haumea': 2,\n",
    "    'makemake': 1,\n",
    "    'eris': 1\n",
    "}\n",
    "moons = []\n",
    "planets = []\n",
    "total_moons = 0\n",
    "for value in planet_moons.values():\n",
    "    moons.append(value)\n",
    "print('Lunas de cada planeta: ', moons)\n",
    "\n",
    "for planet in planet_moons.keys():\n",
    "    planets.append(planet)\n",
    "print('Planetas en la lista: ',planets)\n",
    "\n",
    "for count in moons:\n",
    "    total_moons += count\n",
    "print ('Lunas total en el diccionario: ',total_moons)\n",
    "\n",
    "print('El promedio de lunas por planeta es ', total_moons/len(planets))"
   ]
  }
 ],
 "metadata": {
  "interpreter": {
   "hash": "7c3f7dc6e6d896aa847b05589eb42185e2b621ca78cd85647f1646bb8cc98ef4"
  },
  "kernelspec": {
   "display_name": "Python 3.10.2 64-bit (windows store)",
   "language": "python",
   "name": "python3"
  },
  "language_info": {
   "name": "python",
   "version": "3.10.2"
  },
  "orig_nbformat": 4
 },
 "nbformat": 4,
 "nbformat_minor": 2
}
