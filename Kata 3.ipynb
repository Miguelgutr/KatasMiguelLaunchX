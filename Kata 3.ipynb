{
 "cells": [
  {
   "cell_type": "code",
   "execution_count": null,
   "metadata": {},
   "outputs": [],
   "source": []
  },
  {
   "cell_type": "markdown",
   "metadata": {},
   "source": [
    "## Ejercicio 1\n",
    "instrucciones if, else"
   ]
  },
  {
   "cell_type": "code",
   "execution_count": 8,
   "metadata": {},
   "outputs": [
    {
     "name": "stdout",
     "output_type": "stream",
     "text": [
      "Advertencia! el asteroide se acerca demasiado rápido\n"
     ]
    }
   ],
   "source": [
    "asteroidVel = float(input(\"ingresa la velocidad del asteroide en km/s\"))\n",
    "\n",
    "if asteroidVel > 25:\n",
    "    print(\"Advertencia! el asteroide se acerca demasiado rápido\")\n",
    "else:\n",
    "    print(\"La velocidad del asteroide no es peligrosa\")"
   ]
  },
  {
   "cell_type": "markdown",
   "metadata": {},
   "source": [
    "## ejercicio 2\n",
    "instrucciones if, else, elif"
   ]
  },
  {
   "cell_type": "code",
   "execution_count": 12,
   "metadata": {},
   "outputs": [
    {
     "name": "stdout",
     "output_type": "stream",
     "text": [
      "El asteroide no se puede ver desde la tierra\n"
     ]
    }
   ],
   "source": [
    "asteroid = 19\n",
    "if asteroid > 20:\n",
    "    print(\"El asteroide se puede ver desde la tierra\")\n",
    "elif asteroid == 20:\n",
    "    print(\"El asteroide se puede ver en la tierra\")\n",
    "else: \n",
    "    print(\"El asteroide no se puede ver desde la tierra\")"
   ]
  },
  {
   "cell_type": "markdown",
   "metadata": {},
   "source": [
    "## Ejercicio 3\n",
    "Operadores AND y OR"
   ]
  },
  {
   "cell_type": "code",
   "execution_count": 29,
   "metadata": {},
   "outputs": [
    {
     "name": "stdout",
     "output_type": "stream",
     "text": [
      "Peligro, el asteroide podría causar mucho daño\n"
     ]
    }
   ],
   "source": [
    "velAsteroide = 15\n",
    "tamAsteoride = 50\n",
    "\n",
    "if tamAsteoride < 25 and velAsteroide < 25:\n",
    "    print(\"El asteroide no representa ningún problema para la tierra\")\n",
    "elif tamAsteoride > 25 and tamAsteoride < 1000:\n",
    "    print (\"Peligro, el asteroide podría causar mucho daño\")\n",
    "elif velAsteroide >= 20:\n",
    "    print(\"Advertencia, el asteroide tiene una velocidad mayor a 25 km/s y podría verse una luz desde la tierra\")\n",
    "else:\n",
    "    print(\"Peligro!!! El asteroide extinguirá la vida en la tierra\")"
   ]
  }
 ],
 "metadata": {
  "interpreter": {
   "hash": "7c3f7dc6e6d896aa847b05589eb42185e2b621ca78cd85647f1646bb8cc98ef4"
  },
  "kernelspec": {
   "display_name": "Python 3.10.2 64-bit (windows store)",
   "language": "python",
   "name": "python3"
  },
  "language_info": {
   "codemirror_mode": {
    "name": "ipython",
    "version": 3
   },
   "file_extension": ".py",
   "mimetype": "text/x-python",
   "name": "python",
   "nbconvert_exporter": "python",
   "pygments_lexer": "ipython3",
   "version": "3.10.2"
  },
  "orig_nbformat": 4
 },
 "nbformat": 4,
 "nbformat_minor": 2
}
